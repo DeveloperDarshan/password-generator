{
 "cells": [
  {
   "cell_type": "code",
   "execution_count": 3,
   "id": "5faacf47",
   "metadata": {},
   "outputs": [],
   "source": [
    "import secrets\n",
    "import string"
   ]
  },
  {
   "cell_type": "code",
   "execution_count": 7,
   "id": "b261e47a",
   "metadata": {},
   "outputs": [
    {
     "name": "stdout",
     "output_type": "stream",
     "text": [
      "P=H[`T<AWlk~\n",
      "ygHd0u3T<()5\n"
     ]
    }
   ],
   "source": [
    "letters = string.ascii_letters\n",
    "digits = string.digits\n",
    "special_chars = string.punctuation\n",
    "alphabet = letters + digits + special_chars\n",
    "pwd_len = 12\n",
    "pwd = ''\n",
    "for i in range(pwd_len):\n",
    "    pwd += ''.join(secrets.choice(alphabet))\n",
    "print(pwd)\n",
    "while True:\n",
    "    pwd = ''\n",
    "    for i in range(pwd_len):\n",
    "        pwd += ''.join(secrets.choice(alphabet))\n",
    "        \n",
    "    if(any(char in special_chars for char in pwd) and sum(char in digits for char in pwd) >= 2):\n",
    "        break\n",
    "print(pwd)"
   ]
  },
  {
   "cell_type": "code",
   "execution_count": null,
   "id": "fab6ab67",
   "metadata": {},
   "outputs": [],
   "source": []
  }
 ],
 "metadata": {
  "kernelspec": {
   "display_name": "Python 3 (ipykernel)",
   "language": "python",
   "name": "python3"
  },
  "language_info": {
   "codemirror_mode": {
    "name": "ipython",
    "version": 3
   },
   "file_extension": ".py",
   "mimetype": "text/x-python",
   "name": "python",
   "nbconvert_exporter": "python",
   "pygments_lexer": "ipython3",
   "version": "3.9.13"
  }
 },
 "nbformat": 4,
 "nbformat_minor": 5
}
